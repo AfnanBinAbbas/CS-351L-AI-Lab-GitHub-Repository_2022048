{
 "cells": [
  {
   "cell_type": "markdown",
   "metadata": {},
   "source": [
    "Game Idea: Number Guessing Game\n",
    "Objective: The player has to guess a randomly chosen number between 1 and 100.\n",
    "Non-AI Version: The computer selects a random number, and the player tries to guess the number within a certain number of attempts.\n",
    "AI Version: The AI will attempt to guess the player's chosen number using strategies (like binary search).\n",
    "1. Non-AI Version: Player vs Computer\n",
    "Game Description:\n",
    "In this version, the computer selects a random number, and the player tries to guess the number. The game provides feedback if the guess is too high or too low. The player wins if they guess the correct number within 10 attempts."
   ]
  },
  {
   "cell_type": "code",
   "execution_count": 2,
   "metadata": {},
   "outputs": [
    {
     "name": "stdout",
     "output_type": "stream",
     "text": [
      "Welcome to the Number Guessing Game!\n",
      "Guess a number between 1 and 100. You have 10 attempts.\n"
     ]
    },
    {
     "name": "stdout",
     "output_type": "stream",
     "text": [
      "Too low!\n",
      "Too low!\n"
     ]
    },
    {
     "ename": "ValueError",
     "evalue": "invalid literal for int() with base 10: ''",
     "output_type": "error",
     "traceback": [
      "\u001b[1;31m---------------------------------------------------------------------------\u001b[0m",
      "\u001b[1;31mValueError\u001b[0m                                Traceback (most recent call last)",
      "\u001b[1;32mc:\\Local Disk E\\Github\\CS351_Intro_to_AI_5th_Sem\\Lab 1 Tasks\\AfnanBinAbbas_CS351L_Lab01.ipynb Cell 2\u001b[0m line \u001b[0;36m2\n\u001b[0;32m     <a href='vscode-notebook-cell:/c%3A/Local%20Disk%20E/Github/CS351_Intro_to_AI_5th_Sem/Lab%201%20Tasks/AfnanBinAbbas_CS351L_Lab01.ipynb#W0sZmlsZQ%3D%3D?line=24'>25</a>\u001b[0m     \u001b[39mprint\u001b[39m(\u001b[39mf\u001b[39m\u001b[39m\"\u001b[39m\u001b[39mSorry, you\u001b[39m\u001b[39m'\u001b[39m\u001b[39mve used all your attempts. The number was \u001b[39m\u001b[39m{\u001b[39;00mnumber_to_guess\u001b[39m}\u001b[39;00m\u001b[39m.\u001b[39m\u001b[39m\"\u001b[39m)\n\u001b[0;32m     <a href='vscode-notebook-cell:/c%3A/Local%20Disk%20E/Github/CS351_Intro_to_AI_5th_Sem/Lab%201%20Tasks/AfnanBinAbbas_CS351L_Lab01.ipynb#W0sZmlsZQ%3D%3D?line=26'>27</a>\u001b[0m \u001b[39m# Run the game\u001b[39;00m\n\u001b[1;32m---> <a href='vscode-notebook-cell:/c%3A/Local%20Disk%20E/Github/CS351_Intro_to_AI_5th_Sem/Lab%201%20Tasks/AfnanBinAbbas_CS351L_Lab01.ipynb#W0sZmlsZQ%3D%3D?line=27'>28</a>\u001b[0m number_guessing_game()\n\u001b[0;32m     <a href='vscode-notebook-cell:/c%3A/Local%20Disk%20E/Github/CS351_Intro_to_AI_5th_Sem/Lab%201%20Tasks/AfnanBinAbbas_CS351L_Lab01.ipynb#W0sZmlsZQ%3D%3D?line=30'>31</a>\u001b[0m \u001b[39m# BFS Version\u001b[39;00m\n\u001b[0;32m     <a href='vscode-notebook-cell:/c%3A/Local%20Disk%20E/Github/CS351_Intro_to_AI_5th_Sem/Lab%201%20Tasks/AfnanBinAbbas_CS351L_Lab01.ipynb#W0sZmlsZQ%3D%3D?line=31'>32</a>\u001b[0m \u001b[39mdef\u001b[39;00m \u001b[39mbfs_guess\u001b[39m(secret_number):\n",
      "\u001b[1;32mc:\\Local Disk E\\Github\\CS351_Intro_to_AI_5th_Sem\\Lab 1 Tasks\\AfnanBinAbbas_CS351L_Lab01.ipynb Cell 2\u001b[0m line \u001b[0;36m1\n\u001b[0;32m     <a href='vscode-notebook-cell:/c%3A/Local%20Disk%20E/Github/CS351_Intro_to_AI_5th_Sem/Lab%201%20Tasks/AfnanBinAbbas_CS351L_Lab01.ipynb#W0sZmlsZQ%3D%3D?line=11'>12</a>\u001b[0m \u001b[39m# Loop for the player to make guesses\u001b[39;00m\n\u001b[0;32m     <a href='vscode-notebook-cell:/c%3A/Local%20Disk%20E/Github/CS351_Intro_to_AI_5th_Sem/Lab%201%20Tasks/AfnanBinAbbas_CS351L_Lab01.ipynb#W0sZmlsZQ%3D%3D?line=12'>13</a>\u001b[0m \u001b[39mwhile\u001b[39;00m attempts \u001b[39m<\u001b[39m max_attempts:\n\u001b[1;32m---> <a href='vscode-notebook-cell:/c%3A/Local%20Disk%20E/Github/CS351_Intro_to_AI_5th_Sem/Lab%201%20Tasks/AfnanBinAbbas_CS351L_Lab01.ipynb#W0sZmlsZQ%3D%3D?line=13'>14</a>\u001b[0m     guess \u001b[39m=\u001b[39m \u001b[39mint\u001b[39;49m(\u001b[39minput\u001b[39;49m(\u001b[39m\"\u001b[39;49m\u001b[39mEnter your guess: \u001b[39;49m\u001b[39m\"\u001b[39;49m))\n\u001b[0;32m     <a href='vscode-notebook-cell:/c%3A/Local%20Disk%20E/Github/CS351_Intro_to_AI_5th_Sem/Lab%201%20Tasks/AfnanBinAbbas_CS351L_Lab01.ipynb#W0sZmlsZQ%3D%3D?line=14'>15</a>\u001b[0m     attempts \u001b[39m+\u001b[39m\u001b[39m=\u001b[39m \u001b[39m1\u001b[39m\n\u001b[0;32m     <a href='vscode-notebook-cell:/c%3A/Local%20Disk%20E/Github/CS351_Intro_to_AI_5th_Sem/Lab%201%20Tasks/AfnanBinAbbas_CS351L_Lab01.ipynb#W0sZmlsZQ%3D%3D?line=16'>17</a>\u001b[0m     \u001b[39mif\u001b[39;00m guess \u001b[39m<\u001b[39m number_to_guess:\n",
      "\u001b[1;31mValueError\u001b[0m: invalid literal for int() with base 10: ''"
     ]
    }
   ],
   "source": [
    "import random\n",
    "\n",
    "def number_guessing_game():\n",
    "    # The computer selects a random number between 1 and 100\n",
    "    number_to_guess = random.randint(1, 100)\n",
    "    attempts = 0\n",
    "    max_attempts = 10  # Player has 10 attempts to guess the number\n",
    "\n",
    "    print(\"Welcome to the Number Guessing Game!\")\n",
    "    print(\"Guess a number between 1 and 100. You have 10 attempts.\")\n",
    "\n",
    "    # Loop for the player to make guesses\n",
    "    while attempts < max_attempts:\n",
    "        guess = int(input(\"Enter your guess: \"))\n",
    "        attempts += 1\n",
    "\n",
    "        if guess < number_to_guess:\n",
    "            print(\"Too low!\")\n",
    "        elif guess > number_to_guess:\n",
    "            print(\"Too high!\")\n",
    "        else:\n",
    "            print(f\"Congratulations! You guessed the number in {attempts} attempts.\")\n",
    "            return\n",
    "\n",
    "    print(f\"Sorry, you've used all your attempts. The number was {number_to_guess}.\")\n",
    "\n",
    "# Run the game\n",
    "number_guessing_game()\n",
    "\n",
    "\n",
    "# BFS Version\n",
    "def bfs_guess(secret_number):\n",
    "    print(\"AI (BFS) guessing...\")\n",
    "    queue = deque([i for i in range(1, 101)])  # Initialize a queue with all possible guesses\n",
    "    attempts = 0\n",
    "    while queue:\n",
    "        attempts += 1\n",
    "        guess = queue.popleft()\n",
    "        print(f\"AI guesses: {guess}\")\n",
    "        if guess == secret_number:\n",
    "            print(f\"AI found the number in {attempts} attempts using BFS.\")\n",
    "            return attempts\n",
    "\n",
    "# DFS Version\n",
    "def dfs_guess(secret_number):\n",
    "    print(\"AI (DFS) guessing...\")\n",
    "    stack = [i for i in range(1, 101)]  # Initialize a stack with all possible guesses\n",
    "    attempts = 0\n",
    "    while stack:\n",
    "        attempts += 1\n",
    "        guess = stack.pop()\n",
    "        print(f\"AI guesses: {guess}\")\n",
    "        if guess == secret_number:\n",
    "            print(f\"AI found the number in {attempts} attempts using DFS.\")\n",
    "            return attempts\n",
    "\n",
    "# Custom Algorithm: Simulated Annealing\n",
    "def simulated_annealing_guess(secret_number):\n",
    "    print(\"AI (Simulated Annealing) guessing...\")\n",
    "    current_guess = random.randint(1, 100)\n",
    "    attempts = 0\n",
    "    temperature = 100  # Initial temperature\n",
    "\n",
    "    def get_neighbor(guess):\n",
    "        return max(1, min(100, guess + random.randint(-10, 10)))  # Get neighboring guess\n",
    "\n",
    "    while temperature > 1:\n",
    "        attempts += 1\n",
    "        print(f\"AI guesses: {current_guess}\")\n",
    "        if current_guess == secret_number:\n",
    "            print(f\"AI found the number in {attempts} attempts using Simulated Annealing.\")\n",
    "            return attempts\n",
    "        new_guess = get_neighbor(current_guess)\n",
    "        temperature *= 0.95  # Decrease temperature\n",
    "        if abs(new_guess - secret_number) < abs(current_guess - secret_number):\n",
    "            current_guess = new_guess  # Accept better guess\n",
    "        else:\n",
    "            # Probabilistic acceptance of worse guess\n",
    "            if random.uniform(0, 1) < temperature:\n",
    "                current_guess = new_guess\n",
    "\n",
    "# Main function to test all algorithms\n",
    "if __name__ == \"__main__\":\n",
    "    secret_number = random.randint(1, 100)\n",
    "    print(f\"The secret number is: {secret_number}\")\n",
    "\n",
    "    # Player vs Computer (Non-AI Version)\n",
    "    # Pplayer vs Computer\n",
    "    # player_vs_computer()\n",
    "\n",
    "    # AI Version with Binary Search\n",
    "    # binary_search_guess(1, 100, secret_number)\n",
    "\n",
    "    # # BFS Version\n",
    "    # bfs_guess(secret_number)\n",
    "\n",
    "    # # DFS Version\n",
    "    dfs_guess(secret_number)\n",
    "\n",
    "    # # Custom Algorithm (Simulated Annealing)\n",
    "    simulated_annealing_guess(secret_number)\n"
   ]
  },
  {
   "cell_type": "markdown",
   "metadata": {},
   "source": [
    "2. AI Version: Computer vs Player\n",
    "Game Description:\n",
    "In the AI version, the player selects a number, and the AI (computer) will try to guess the number. The AI uses a strategy like binary search to minimize the number of guesses by adjusting its range of possible numbers based on feedback (too high/too low)."
   ]
  },
  {
   "cell_type": "code",
   "execution_count": null,
   "metadata": {},
   "outputs": [],
   "source": [
    "def ai_number_guessing_game():\n",
    "    # Player selects a number\n",
    "    print(\"Think of a number between 1 and 100, and I (the AI) will try to guess it.\")\n",
    "    low = 1\n",
    "    high = 100\n",
    "    attempts = 0\n",
    "\n",
    "    # Loop until the AI guesses the number correctly\n",
    "    while low <= high:\n",
    "        guess = (low + high) // 2  # AI uses binary search to guess\n",
    "        attempts += 1\n",
    "\n",
    "        print(f\"AI's guess is: {guess}\")\n",
    "        feedback = input(\"Enter 'h' if too high, 'l' if too low, or 'c' if correct: \").lower()\n",
    "\n",
    "        if feedback == 'c':\n",
    "            print(f\"I (AI) guessed the number in {attempts} attempts!\")\n",
    "            return\n",
    "        elif feedback == 'h':\n",
    "            high = guess - 1  # If too high, reduce the upper bound\n",
    "        elif feedback == 'l':\n",
    "            low = guess + 1  # If too low, increase the lower bound\n",
    "\n",
    "    print(\"Something went wrong!\")\n",
    "\n",
    "# Run the AI version\n",
    "ai_number_guessing_game()"
   ]
  },
  {
   "cell_type": "markdown",
   "metadata": {},
   "source": [
    "DFS and BFS"
   ]
  },
  {
   "cell_type": "code",
   "execution_count": 4,
   "metadata": {},
   "outputs": [
    {
     "name": "stdout",
     "output_type": "stream",
     "text": [
      "Choose an AI version to test:\n",
      "1. BFS Guessing\n",
      "2. DFS Guessing\n",
      "AI (DFS) guessing...\n",
      "AI guesses: 100\n"
     ]
    }
   ],
   "source": [
    "from collections import deque\n",
    "\n",
    "# Get range from user\n",
    "def get_range():\n",
    "    low = int(input(\"Enter the lower bound of the range: \"))\n",
    "    high = int(input(\"Enter the upper bound of the range: \"))\n",
    "    return low, high\n",
    "\n",
    "# BFS Version with user feedback\n",
    "def bfs_guess():\n",
    "    print(\"AI (BFS) guessing...\")\n",
    "    low, high = get_range()\n",
    "    queue = deque([i for i in range(low, high + 1)])  # Initialize a queue with all possible guesses\n",
    "    attempts = 0\n",
    "    while queue:\n",
    "        attempts += 1\n",
    "        guess = queue.popleft()\n",
    "        print(f\"AI guesses: {guess}\")\n",
    "        feedback = input(\"Is the guess too (h)igh, too (l)ow, or (c)orrect? \").lower()\n",
    "\n",
    "        if feedback == 'c':\n",
    "            print(f\"AI found the number in {attempts} attempts using BFS.\")\n",
    "            return attempts\n",
    "        elif feedback == 'h':\n",
    "            # Remove numbers higher than the guess from the queue\n",
    "            queue = deque([x for x in queue if x < guess])\n",
    "        elif feedback == 'l':\n",
    "            # Remove numbers lower than the guess from the queue\n",
    "            queue = deque([x for x in queue if x > guess])\n",
    "\n",
    "# DFS Version with user feedback\n",
    "def dfs_guess():\n",
    "    print(\"AI (DFS) guessing...\")\n",
    "    low, high = get_range()\n",
    "    stack = [i for i in range(low, high + 1)]  # Initialize a stack with all possible guesses\n",
    "    attempts = 0\n",
    "    while stack:\n",
    "        attempts += 1\n",
    "        guess = stack.pop()\n",
    "        print(f\"AI guesses: {guess}\")\n",
    "        feedback = input(\"Is the guess too (h)igh, too (l)ow, or (c)orrect? \").lower()\n",
    "\n",
    "        if feedback == 'c':\n",
    "            print(f\"AI found the number in {attempts} attempts using DFS.\")\n",
    "            return attempts\n",
    "        elif feedback == 'h':\n",
    "            # Remove numbers higher than the guess from the stack\n",
    "            stack = [x for x in stack if x < guess]\n",
    "        elif feedback == 'l':\n",
    "            # Remove numbers lower than the guess from the stack\n",
    "            stack = [x for x in stack if x > guess]\n",
    "\n",
    "# Main function to test the updated versions\n",
    "if __name__ == \"__main__\":\n",
    "    print(\"Choose an AI version to test:\")\n",
    "    print(\"1. BFS Guessing\")\n",
    "    print(\"2. DFS Guessing\")\n",
    "\n",
    "    choice = input(\"Enter 1 or 2: \").strip()\n",
    "\n",
    "    if choice == '1':\n",
    "        bfs_guess()\n",
    "    elif choice == '2':\n",
    "        dfs_guess()\n",
    "    else:\n",
    "        print(\"Invalid choice.\")"
   ]
  },
  {
   "cell_type": "markdown",
   "metadata": {},
   "source": []
  },
  {
   "cell_type": "code",
   "execution_count": null,
   "metadata": {},
   "outputs": [],
   "source": []
  },
  {
   "cell_type": "markdown",
   "metadata": {},
   "source": [
    "Simulated Annealing"
   ]
  },
  {
   "cell_type": "code",
   "execution_count": null,
   "metadata": {},
   "outputs": [],
   "source": []
  }
 ],
 "metadata": {
  "kernelspec": {
   "display_name": "Python 3",
   "language": "python",
   "name": "python3"
  },
  "language_info": {
   "codemirror_mode": {
    "name": "ipython",
    "version": 3
   },
   "file_extension": ".py",
   "mimetype": "text/x-python",
   "name": "python",
   "nbconvert_exporter": "python",
   "pygments_lexer": "ipython3",
   "version": "3.12.3"
  }
 },
 "nbformat": 4,
 "nbformat_minor": 2
}
